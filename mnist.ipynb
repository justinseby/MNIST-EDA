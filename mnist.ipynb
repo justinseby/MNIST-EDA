{
 "cells": [
  {
   "cell_type": "markdown",
   "id": "293a017a",
   "metadata": {},
   "source": [
    "# MNIST DataSet Visualization "
   ]
  },
  {
   "cell_type": "markdown",
   "id": "cdd82946",
   "metadata": {},
   "source": [
    "There is an amazing blog about MNIS Dataset https://colah.github.io/posts/2014-10-Visualizing-MNIST/\n",
    "\n",
    "Data set got from kaggle\n",
    "https://www.kaggle.com/c/digit-recognizer/data?select=train.csv"
   ]
  },
  {
   "cell_type": "code",
   "execution_count": 1,
   "id": "a8f85c6e",
   "metadata": {},
   "outputs": [],
   "source": [
    "import numpy as np\n",
    "import pandas as pd\n",
    "import matplotlib.pyplot as plt"
   ]
  },
  {
   "cell_type": "code",
   "execution_count": 5,
   "id": "73c97b6d",
   "metadata": {},
   "outputs": [
    {
     "name": "stdout",
     "output_type": "stream",
     "text": [
      "   label  pixel0  pixel1  pixel2  pixel3  pixel4  pixel5  pixel6  pixel7  \\\n",
      "0      1       0       0       0       0       0       0       0       0   \n",
      "1      0       0       0       0       0       0       0       0       0   \n",
      "2      1       0       0       0       0       0       0       0       0   \n",
      "3      4       0       0       0       0       0       0       0       0   \n",
      "4      0       0       0       0       0       0       0       0       0   \n",
      "\n",
      "   pixel8  ...  pixel774  pixel775  pixel776  pixel777  pixel778  pixel779  \\\n",
      "0       0  ...         0         0         0         0         0         0   \n",
      "1       0  ...         0         0         0         0         0         0   \n",
      "2       0  ...         0         0         0         0         0         0   \n",
      "3       0  ...         0         0         0         0         0         0   \n",
      "4       0  ...         0         0         0         0         0         0   \n",
      "\n",
      "   pixel780  pixel781  pixel782  pixel783  \n",
      "0         0         0         0         0  \n",
      "1         0         0         0         0  \n",
      "2         0         0         0         0  \n",
      "3         0         0         0         0  \n",
      "4         0         0         0         0  \n",
      "\n",
      "[5 rows x 785 columns]\n"
     ]
    }
   ],
   "source": [
    "do= pd.read_csv('./train.csv')\n",
    "#print(do)\n",
    "# Print first 5 rows\n",
    "print(do.head(5))"
   ]
  },
  {
   "cell_type": "code",
   "execution_count": 6,
   "id": "212436f2",
   "metadata": {},
   "outputs": [],
   "source": [
    "l=do['label']\n",
    "# Drop the label and store remaining in d\n",
    "d=do.drop(\"label\", axis=1)\n",
    "\n",
    "#now we have di --> in li"
   ]
  },
  {
   "cell_type": "code",
   "execution_count": 9,
   "id": "fb6aa606",
   "metadata": {},
   "outputs": [
    {
     "name": "stdout",
     "output_type": "stream",
     "text": [
      "(42000,)\n",
      "(42000, 784)\n"
     ]
    }
   ],
   "source": [
    "print(l.shape)\n",
    "print(d.shape)"
   ]
  },
  {
   "cell_type": "code",
   "execution_count": 19,
   "id": "1ad6da13",
   "metadata": {},
   "outputs": [
    {
     "data": {
      "image/png": "[encoded data removed]",
      "text/plain": [
       "<Figure size 504x504 with 1 Axes>"
      ]
     },
     "metadata": {
      "needs_background": "light"
     },
     "output_type": "display_data"
    },
    {
     "name": "stdout",
     "output_type": "stream",
     "text": [
      "4\n"
     ]
    }
   ],
   "source": [
    "# display or plot a number\n",
    "plt.figure(figsize=(7,7))\n",
    "idx=122\n",
    "\n",
    "grid_data=d.iloc[idx].to_numpy().reshape(28,28)\n",
    "# imshow helps to shows pics and color map(CMAP) is the color we want to display\n",
    "\n",
    "plt.imshow(grid_data, interpolation=\"none\", cmap=\"gray\")\n",
    "plt.show()\n",
    "\n",
    "print(l[idx])"
   ]
  },
  {
   "cell_type": "code",
   "execution_count": null,
   "id": "4d9e0290",
   "metadata": {},
   "outputs": [],
   "source": []
  }
 ],
 "metadata": {
  "kernelspec": {
   "display_name": "Python 3 (ipykernel)",
   "language": "python",
   "name": "python3"
  },
  "language_info": {
   "codemirror_mode": {
    "name": "ipython",
    "version": 3
   },
   "file_extension": ".py",
   "mimetype": "text/x-python",
   "name": "python",
   "nbconvert_exporter": "python",
   "pygments_lexer": "ipython3",
   "version": "3.9.5"
  }
 },
 "nbformat": 4,
 "nbformat_minor": 5
}
